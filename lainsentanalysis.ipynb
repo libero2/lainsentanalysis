{
 "cells": [
  {
   "cell_type": "code",
   "execution_count": 1,
   "id": "902d8983-d823-4a37-b719-918fafd45c4c",
   "metadata": {},
   "outputs": [],
   "source": [
    "import nltk\n",
    "from nltk import punkt"
   ]
  },
  {
   "cell_type": "code",
   "execution_count": null,
   "id": "f989516f",
   "metadata": {},
   "outputs": [],
   "source": [
    "import pandas as pd\n",
    "from nltk.sentiment.vader import SentimentIntensityAnalyzer as sia\n",
    "from nltk.corpus import stopwords\n",
    "from nltk.tokenize import word_tokenize\n",
    "from nltk.stem import WordNetLemmatizer"
   ]
  },
  {
   "cell_type": "code",
   "execution_count": null,
   "id": "52c23561",
   "metadata": {},
   "outputs": [],
   "source": [
    "import re\n",
    "\n",
    "def textCleaner(input_file, output_file):\n",
    "    with open(input_file, \"r\", encoding=\"utf-8\") as text_in:\n",
    "        lines = text_in.readlines()\n",
    "\n",
    "    with open(output_file, \"w\", encoding=\"utf-8\") as text_out:\n",
    "        for line in lines:\n",
    "            if re.match(r\"^(?!Original|_)[a-zA-Z]\", line) and re.match(r\"[a-zA-Z]\", line):\n",
    "                text_out.write(line)\n",
    "\n",
    "textCleaner(\"lainDiary_raw.txt\", \"lainDiary_untrained.txt\")"
   ]
  },
  {
   "cell_type": "code",
   "execution_count": 29,
   "id": "67ab466a-7485-49b7-89f8-48595cd9ba5b",
   "metadata": {},
   "outputs": [],
   "source": [
    "import nltk.tokenize.punkt\n",
    "import pickle\n",
    "import codecs\n",
    "from nltk.tokenize.punkt import PunktParameters\n",
    "punkt_param = PunktParameters()\n",
    "punkt_param.abbrev_types.add((\"phys\", \"ed\"))\n",
    "tokenizer = nltk.tokenize.punkt.PunktSentenceTokenizer(punkt_param)\n",
    "text = codecs.open(\"lainDiary_untrained.txt\",\"r\",\"utf8\").read()\n",
    "stripped = text.replace(\"\\n\", \"\")\n",
    "tokenizer.train(stripped)\n",
    "out = open(\"nltkLain.pk\",\"wb\")\n",
    "pickle.dump(tokenizer, out)\n",
    "out.close()"
   ]
  },
  {
   "cell_type": "code",
   "execution_count": 30,
   "id": "3c8ef8b3-d31a-410d-ab48-071b3d91b0ca",
   "metadata": {},
   "outputs": [],
   "source": [
    "def tokenizer(input_file, output_file):\n",
    "    with open (\"nltkLain.pk\", \"rb\") as model:\n",
    "        sent_tokenizer = pickle.load(model)\n",
    "    with open (input_file, \"r\", encoding=\"utf-8\") as text_in:\n",
    "        text = text_in.read()\n",
    "        clause = text.replace(\"\\n\", \"\")\n",
    "    with open (output_file, \"w\", encoding=\"utf-8\") as text_out:\n",
    "        text_out.write(\"\\n \\n\".join(sent_tokenizer.tokenize(clause)))\n",
    "tokenizer(\"lainDiary_untrained.txt\", \"lainDiary_trained.txt\")\n",
    "    "
   ]
  },
  {
   "cell_type": "code",
   "execution_count": null,
   "id": "d5e2d7f2",
   "metadata": {},
   "outputs": [
    {
     "ename": "AttributeError",
     "evalue": "ignored",
     "output_type": "error",
     "traceback": [
      "\u001b[0;31m---------------------------------------------------------------------------\u001b[0m\n",
      "\u001b[0;31mAttributeError\u001b[0m                            Traceback (most recent call last)\n",
      "\u001b[0;32m<ipython-input-19-12d1ce571800>\u001b[0m in \u001b[0;36m<cell line: 16>\u001b[0;34m()\u001b[0m\n",
      "\u001b[1;32m     14\u001b[0m         \u001b[0;32mbreak\u001b[0m\u001b[0;34m\u001b[0m\u001b[0;34m\u001b[0m\u001b[0m\n",
      "\u001b[1;32m     15\u001b[0m       \u001b[0manalyzed\u001b[0m\u001b[0;34m.\u001b[0m\u001b[0mappend\u001b[0m\u001b[0;34m(\u001b[0m\u001b[0msid\u001b[0m\u001b[0;34m.\u001b[0m\u001b[0mpolarity_scores\u001b[0m\u001b[0;34m(\u001b[0m\u001b[0mline\u001b[0m\u001b[0;34m)\u001b[0m\u001b[0;34m)\u001b[0m\u001b[0;34m\u001b[0m\u001b[0;34m\u001b[0m\u001b[0m\n",
      "\u001b[0;32m---> 16\u001b[0;31m \u001b[0msid_polarity\u001b[0m\u001b[0;34m(\u001b[0m\u001b[0;34m\"lainDiary.txt\"\u001b[0m\u001b[0;34m)\u001b[0m\u001b[0;34m\u001b[0m\u001b[0;34m\u001b[0m\u001b[0m\n",
      "\u001b[0m\u001b[1;32m     17\u001b[0m '''for sentence in lemmatized_tokens:\n",
      "\u001b[1;32m     18\u001b[0m     \u001b[0manalyzed\u001b[0m\u001b[0;34m.\u001b[0m\u001b[0mappend\u001b[0m\u001b[0;34m(\u001b[0m\u001b[0msid\u001b[0m\u001b[0;34m.\u001b[0m\u001b[0mpolarity_scores\u001b[0m\u001b[0;34m(\u001b[0m\u001b[0msentence\u001b[0m\u001b[0;34m)\u001b[0m\u001b[0;34m)\u001b[0m\u001b[0;34m\u001b[0m\u001b[0;34m\u001b[0m\u001b[0m\n",
      "\n",
      "\u001b[0;32m<ipython-input-19-12d1ce571800>\u001b[0m in \u001b[0;36msid_polarity\u001b[0;34m(input_file)\u001b[0m\n",
      "\u001b[1;32m      8\u001b[0m       \u001b[0mcount\u001b[0m \u001b[0;34m+=\u001b[0m \u001b[0;36m1\u001b[0m\u001b[0;34m\u001b[0m\u001b[0;34m\u001b[0m\u001b[0m\n",
      "\u001b[1;32m      9\u001b[0m \u001b[0;34m\u001b[0m\u001b[0m\n",
      "\u001b[0;32m---> 10\u001b[0;31m       \u001b[0mline\u001b[0m \u001b[0;34m=\u001b[0m \u001b[0minput_file\u001b[0m\u001b[0;34m.\u001b[0m\u001b[0mreadline\u001b[0m\u001b[0;34m(\u001b[0m\u001b[0;34m)\u001b[0m\u001b[0;34m\u001b[0m\u001b[0;34m\u001b[0m\u001b[0m\n",
      "\u001b[0m\u001b[1;32m     11\u001b[0m       \u001b[0manalyzed\u001b[0m \u001b[0;34m=\u001b[0m \u001b[0;34m[\u001b[0m\u001b[0;34m]\u001b[0m\u001b[0;34m\u001b[0m\u001b[0;34m\u001b[0m\u001b[0m\n",
      "\u001b[1;32m     12\u001b[0m \u001b[0;34m\u001b[0m\u001b[0m\n",
      "\n",
      "\u001b[0;31mAttributeError\u001b[0m: 'str' object has no attribute 'readline'"
     ]
    }
   ],
   "source": [
    "from nltk.sentiment.vader import SentimentIntensityAnalyzer as SIA\n",
    "sid = SIA()\n",
    "\n",
    "def sid_polarity(input_file):\n",
    "  count = 0\n",
    "  with open(input_file, \"r\", encoding=\"utf-8\"):\n",
    "    while True:\n",
    "      count += 1\n",
    "\n",
    "      line = input_file.readline()\n",
    "      analyzed = []\n",
    "      \n",
    "      if not line:\n",
    "        break\n",
    "      analyzed.append(sid.polarity_scores(line))\n",
    "sid_polarity(\"lainDiary.txt\")\n",
    "for sentence in lemmatized_tokens:\n",
    "    analyzed.append(sid.polarity_scores(sentence))\n",
    "\n",
    "df = pd.DataFrame([lemmatized_tokens, analyzed])\n",
    "df.T.head(25)"
   ]
  }
 ],
 "metadata": {
  "kernelspec": {
   "display_name": "Python 3 (ipykernel)",
   "language": "python",
   "name": "python3"
  },
  "language_info": {
   "codemirror_mode": {
    "name": "ipython",
    "version": 3
   },
   "file_extension": ".py",
   "mimetype": "text/x-python",
   "name": "python",
   "nbconvert_exporter": "python",
   "pygments_lexer": "ipython3",
   "version": "3.11.4"
  }
 },
 "nbformat": 4,
 "nbformat_minor": 5
}
